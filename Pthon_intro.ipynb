{
  "nbformat": 4,
  "nbformat_minor": 0,
  "metadata": {
    "colab": {
      "provenance": [],
      "authorship_tag": "ABX9TyPvtXH+0roP6Gmxq3xLpIt/",
      "include_colab_link": true
    },
    "kernelspec": {
      "name": "python3",
      "display_name": "Python 3"
    },
    "language_info": {
      "name": "python"
    }
  },
  "cells": [
    {
      "cell_type": "markdown",
      "metadata": {
        "id": "view-in-github",
        "colab_type": "text"
      },
      "source": [
        "<a href=\"https://colab.research.google.com/github/vijay-pa/python_Gen_AI/blob/main/Pthon_intro.ipynb\" target=\"_parent\"><img src=\"https://colab.research.google.com/assets/colab-badge.svg\" alt=\"Open In Colab\"/></a>"
      ]
    },
    {
      "cell_type": "code",
      "execution_count": null,
      "metadata": {
        "colab": {
          "base_uri": "https://localhost:8080/"
        },
        "id": "OId8ALF8dAKz",
        "outputId": "f7b3a49d-4e4f-48cf-fea0-50c4b4cf7b57"
      },
      "outputs": [
        {
          "output_type": "stream",
          "name": "stdout",
          "text": [
            "Hello python!\n"
          ]
        }
      ],
      "source": [
        "# Print statements\n",
        "print(\"Hello python!\")"
      ]
    },
    {
      "cell_type": "code",
      "source": [
        "# comment types\n",
        "# hello\n",
        "\"lets work\"\n",
        "'Hello, lets work'\n",
        "'''Helllo, lets work!\n",
        "start with comments in python'''"
      ],
      "metadata": {
        "colab": {
          "base_uri": "https://localhost:8080/",
          "height": 35
        },
        "id": "Qi_aaoXm25yx",
        "outputId": "8fbf6488-0287-4707-8cef-3fa491d29ccc"
      },
      "execution_count": null,
      "outputs": [
        {
          "output_type": "execute_result",
          "data": {
            "text/plain": [
              "'Helllo, lets work!\\nstart with comments in python'"
            ],
            "application/vnd.google.colaboratory.intrinsic+json": {
              "type": "string"
            }
          },
          "metadata": {},
          "execution_count": 2
        }
      ]
    },
    {
      "cell_type": "code",
      "source": [
        "# variables\n",
        "b = 'my name'\n",
        "print(b)\n",
        "print(type(b))\n",
        "print(id(b))"
      ],
      "metadata": {
        "colab": {
          "base_uri": "https://localhost:8080/"
        },
        "id": "NqSY7dYR3Mv3",
        "outputId": "1f15e93f-8190-42e6-8d36-2d643e948b2d"
      },
      "execution_count": null,
      "outputs": [
        {
          "output_type": "stream",
          "name": "stdout",
          "text": [
            "my name\n",
            "<class 'str'>\n",
            "139136960288864\n"
          ]
        }
      ]
    },
    {
      "cell_type": "code",
      "source": [
        "# Input variables\n",
        "# Band Name Calculator\n",
        "\n",
        "A = input(\"Enter your Name: \")\n",
        "B = input(\"Enter your City Name: \")\n",
        "\n",
        "print(\"Your Band Name Could Be: \"+A+\" \"+B)\n",
        "print(f\"Your Band Name Could Be: {A} {B}\")"
      ],
      "metadata": {
        "colab": {
          "base_uri": "https://localhost:8080/"
        },
        "id": "9H4bnb7qa0PS",
        "outputId": "dcc26e21-c555-4bcb-ad38-04758bece33f"
      },
      "execution_count": null,
      "outputs": [
        {
          "output_type": "stream",
          "name": "stdout",
          "text": [
            "Enter your Name: vj\n",
            "Enter your City Name: hy\n",
            "Your Band Name Could Be: vj hy\n",
            "Your Band Name Could Be: vj hy\n"
          ]
        }
      ]
    },
    {
      "cell_type": "code",
      "source": [
        "# Mathematical\n",
        "# Tip Calculator\n",
        "\n",
        "A = input(\"What was the total bill? $\")\n",
        "B = input(\"What percentage tip would you like to give? 10, 12, or 15? \")\n",
        "C = input(\"How many people to split the bill? \")\n",
        "\n",
        "A = float(A)\n",
        "B = float(int(B)/100)\n",
        "C = int(C)\n",
        "\n",
        "print(f\"Each person should pay: ${A/C+round((A*B)/C,2)}\")"
      ],
      "metadata": {
        "colab": {
          "base_uri": "https://localhost:8080/"
        },
        "id": "nm5bvCmadCrs",
        "outputId": "206d28de-0292-48e5-94d0-e41b2ea40235"
      },
      "execution_count": null,
      "outputs": [
        {
          "output_type": "stream",
          "name": "stdout",
          "text": [
            "What was the total bill? $140\n",
            "What percentage tip would you like to give? 10, 12, or 15? 10\n",
            "How many people to split the bill? 5\n",
            "Each person should pay: $30.8\n"
          ]
        }
      ]
    },
    {
      "cell_type": "code",
      "source": [
        "\n",
        "# Conditional Statements\n",
        "print('''\n",
        " _                                     _     _                 _\n",
        "| |                                   (_)   | |               | |\n",
        "| |_ _ __ ___  __ _ ___ _   _ _ __ ___ _ ___| | __ _ _ __   __| |\n",
        "| __| '__/ _ \\/ _` / __| | | | '__/ _ \\ / __| |/ _` | '_ \\ / _` |\n",
        "| |_| | |  __/ (_| \\__ \\ |_| | | |  __/ \\__ \\ | (_| | | | | (_| |\n",
        " \\__|_|  \\___|\\__,_|___/\\__,_|_|  \\___|_|___/_|\\__,_|_| |_|\\__,_|\n",
        " ''')\n",
        "\n",
        "\n",
        "print(\"Welcome to Treasure Island\")\n",
        "print(\"Today you will be trying to find the invluable treasure of knowledge, Make your choices\")\n",
        "A = str(input(\"Choose Left or Right\")).lower()\n",
        "if(A ==\"right\"):\n",
        "  print(\"GAME OVER, Try Next Time\")\n",
        "elif (A == \"left\"):\n",
        "  B = str(input(\"Choose Swim or Wait\")).lower()\n",
        "  if(B ==\"swim\"):\n",
        "    print(\"GAME OVER, Try Next Time\")\n",
        "  elif (B == \"wait\"):\n",
        "    C = str(input(\"Choose Red, Blue or Yellow\")).lower()\n",
        "    if((C ==\"red\" or C ==\"blue\")):\n",
        "      print(\"GAME OVER, Try Next Time\")\n",
        "    elif (C == \"yellow\"):\n",
        "      print(\"You Win!\")\n",
        "\n",
        "else:\n",
        "    print(\"please provide correct values!\")\n",
        "\n",
        "\n"
      ],
      "metadata": {
        "colab": {
          "base_uri": "https://localhost:8080/"
        },
        "id": "dBiItj89nbqb",
        "outputId": "8f2e234d-6813-45e0-abf9-c4fa74acae8a"
      },
      "execution_count": null,
      "outputs": [
        {
          "output_type": "stream",
          "name": "stderr",
          "text": [
            "<>:6: SyntaxWarning: invalid escape sequence '\\/'\n",
            "<>:6: SyntaxWarning: invalid escape sequence '\\/'\n",
            "/tmp/ipython-input-1566112026.py:6: SyntaxWarning: invalid escape sequence '\\/'\n",
            "  | __| '__/ _ \\/ _` / __| | | | '__/ _ \\ / __| |/ _` | '_ \\ / _` |\n"
          ]
        },
        {
          "output_type": "stream",
          "name": "stdout",
          "text": [
            "\n",
            " _                                     _     _                 _ \n",
            "| |                                   (_)   | |               | |\n",
            "| |_ _ __ ___  __ _ ___ _   _ _ __ ___ _ ___| | __ _ _ __   __| |\n",
            "| __| '__/ _ \\/ _` / __| | | | '__/ _ \\ / __| |/ _` | '_ \\ / _` |\n",
            "| |_| | |  __/ (_| \\__ \\ |_| | | |  __/ \\__ \\ | (_| | | | | (_| |\n",
            " \\__|_|  \\___|\\__,_|___/\\__,_|_|  \\___|_|___/_|\\__,_|_| |_|\\__,_|\n",
            " \n",
            "Welcome to Treasure Island\n",
            "Today you will be trying to find the invluable treasure of knowledge, Make your choices\n",
            "Choose Left or Rightup\n",
            "please provide correct values!\n"
          ]
        }
      ]
    },
    {
      "cell_type": "code",
      "source": [
        "# List -Mutable,ordered,allows duplicates\n",
        "#declaration\n",
        "l =[]\n",
        "print(type(l))\n",
        "# creation of list\n",
        "l =list([0,1,2])\n",
        "print(l)\n",
        "\n",
        "#List addition\n",
        "z =[]\n",
        "z.append(3)\n",
        "print(z)\n"
      ],
      "metadata": {
        "colab": {
          "base_uri": "https://localhost:8080/"
        },
        "id": "IDuNN9r62TNE",
        "outputId": "989653b9-ec84-4797-e12a-ad796dfbbd8c"
      },
      "execution_count": null,
      "outputs": [
        {
          "output_type": "stream",
          "name": "stdout",
          "text": [
            "<class 'list'>\n",
            "[0, 1, 2]\n",
            "[3]\n"
          ]
        }
      ]
    },
    {
      "cell_type": "code",
      "source": [
        "# list traversal\n",
        "\n",
        "l1 = [1,3,4,56,67]\n",
        "\n",
        "for j in l1:\n",
        "  print(j)\n",
        "\n",
        "sum=0\n",
        "for x in l1:\n",
        "  sum +=x\n",
        "\n",
        "print(f\"sum :{sum}\")\n",
        "\n"
      ],
      "metadata": {
        "colab": {
          "base_uri": "https://localhost:8080/"
        },
        "id": "QmoSM8ykP9ei",
        "outputId": "ea78a60f-377f-4d9c-f9ce-bea0034ee044"
      },
      "execution_count": null,
      "outputs": [
        {
          "output_type": "stream",
          "name": "stdout",
          "text": [
            "1\n",
            "3\n",
            "4\n",
            "56\n",
            "67\n",
            "sum :131\n"
          ]
        }
      ]
    },
    {
      "cell_type": "code",
      "source": [
        "#List - strongest Neighbour\n",
        "\n",
        "l2 =[1,2,3,4,5]\n",
        "\n",
        "rs =[max(l2[i],l2[i+1]) for i in range(len(l2)-1)]\n",
        "print(rs)"
      ],
      "metadata": {
        "colab": {
          "base_uri": "https://localhost:8080/"
        },
        "id": "1Q2iYLq8b0Sc",
        "outputId": "42fcf925-755b-47be-a69a-7621efcb312d"
      },
      "execution_count": null,
      "outputs": [
        {
          "output_type": "stream",
          "name": "stdout",
          "text": [
            "[2, 3, 4, 5]\n"
          ]
        }
      ]
    },
    {
      "cell_type": "code",
      "source": [
        "#trapping water list\n",
        "# Problem : Given an array arr[] with non-negative integers representing the height of blocks. If the width of each block is 1,\n",
        "# compute how much water can be trapped between the blocks during the rainy season.\n",
        "# sample arr[] = [3, 0, 1, 0, 4, 0 2]\n",
        "\n",
        "\n",
        "\n"
      ],
      "metadata": {
        "id": "fcI1oi6HnGuq"
      },
      "execution_count": null,
      "outputs": []
    }
  ]
}