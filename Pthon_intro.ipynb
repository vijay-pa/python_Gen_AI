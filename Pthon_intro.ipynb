{
  "nbformat": 4,
  "nbformat_minor": 0,
  "metadata": {
    "colab": {
      "provenance": [],
      "authorship_tag": "ABX9TyPnq+RtrcFDGKEVkT2Wut/S",
      "include_colab_link": true
    },
    "kernelspec": {
      "name": "python3",
      "display_name": "Python 3"
    },
    "language_info": {
      "name": "python"
    }
  },
  "cells": [
    {
      "cell_type": "markdown",
      "metadata": {
        "id": "view-in-github",
        "colab_type": "text"
      },
      "source": [
        "<a href=\"https://colab.research.google.com/github/vijay-pa/python_Gen_AI/blob/main/Pthon_intro.ipynb\" target=\"_parent\"><img src=\"https://colab.research.google.com/assets/colab-badge.svg\" alt=\"Open In Colab\"/></a>"
      ]
    },
    {
      "cell_type": "code",
      "execution_count": 1,
      "metadata": {
        "colab": {
          "base_uri": "https://localhost:8080/"
        },
        "id": "OId8ALF8dAKz",
        "outputId": "f7b3a49d-4e4f-48cf-fea0-50c4b4cf7b57"
      },
      "outputs": [
        {
          "output_type": "stream",
          "name": "stdout",
          "text": [
            "Hello python!\n"
          ]
        }
      ],
      "source": [
        "# Print statements\n",
        "print(\"Hello python!\")"
      ]
    },
    {
      "cell_type": "code",
      "source": [
        "# comment types\n",
        "# hello\n",
        "\"lets work\"\n",
        "'Hello, lets work'\n",
        "'''Helllo, lets work!\n",
        "start with comments in python'''"
      ],
      "metadata": {
        "colab": {
          "base_uri": "https://localhost:8080/",
          "height": 35
        },
        "id": "Qi_aaoXm25yx",
        "outputId": "8fbf6488-0287-4707-8cef-3fa491d29ccc"
      },
      "execution_count": 2,
      "outputs": [
        {
          "output_type": "execute_result",
          "data": {
            "text/plain": [
              "'Helllo, lets work!\\nstart with comments in python'"
            ],
            "application/vnd.google.colaboratory.intrinsic+json": {
              "type": "string"
            }
          },
          "metadata": {},
          "execution_count": 2
        }
      ]
    },
    {
      "cell_type": "code",
      "source": [
        "# variables\n",
        "b = 'my name'\n",
        "print(b)\n",
        "print(type(b))\n",
        "print(id(b))"
      ],
      "metadata": {
        "colab": {
          "base_uri": "https://localhost:8080/"
        },
        "id": "NqSY7dYR3Mv3",
        "outputId": "1f15e93f-8190-42e6-8d36-2d643e948b2d"
      },
      "execution_count": 8,
      "outputs": [
        {
          "output_type": "stream",
          "name": "stdout",
          "text": [
            "my name\n",
            "<class 'str'>\n",
            "139136960288864\n"
          ]
        }
      ]
    }
  ]
}